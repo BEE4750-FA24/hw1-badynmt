{
  "cells": [
    {
      "cell_type": "markdown",
      "id": "9097e2ab-6249-4b31-9a2f-00089c083b72",
      "metadata": {},
      "source": [
        "# BEE 4750 Homework 1: Introduction to Using Julia\n",
        "\n",
        "**Name**:\n",
        "\n",
        "**ID**:\n",
        "\n",
        "> **Due Date**\n",
        ">\n",
        "> Thursday, 9/5/24, 9:00pm\n",
        "\n",
        "## Overview\n",
        "\n",
        "### Instructions\n",
        "\n",
        "-   Problem 1 consist of a series of code snippets for you to interpret\n",
        "    and debug. You will be asked to identify relevant error(s) and fix\n",
        "    the code.\n",
        "-   Problem 2 gives you some code that works as intended; your goal is\n",
        "    to identify the code’s purpose by following its logic.\n",
        "-   Problem 3 asks you to write code to generate a random vector and\n",
        "    subtract off its mean, using a Julia syntax called broadcasting.\n",
        "-   Problem 4 asks you to convert a verbal description of a wastewater\n",
        "    treatment system into a Julia function, and then to use that\n",
        "    function to explore the impact of different wastewater allocation\n",
        "    strategies.\n",
        "-   Problem 5 (5750 only) asks you to use more advanced Julia\n",
        "    techniques.\n",
        "\n",
        "### Load Environment\n",
        "\n",
        "The following code loads the environment and makes sure all needed\n",
        "packages are installed. This should be at the start of most Julia\n",
        "scripts."
      ]
    },
    {
      "cell_type": "code",
      "execution_count": 1,
      "id": "2",
      "metadata": {},
      "outputs": [
        {
          "name": "stderr",
          "output_type": "stream",
          "text": [
            "\u001b[32m\u001b[1m  Activating\u001b[22m\u001b[39m project at `~/BEE 4750/Homework/hw1-badynmt`\n",
            "\u001b[32m\u001b[1m   Installed\u001b[22m\u001b[39m GR_jll ────────────────────── v0.73.5+0\n",
            "\u001b[32m\u001b[1m   Installed\u001b[22m\u001b[39m ArnoldiMethod ─────────────── v0.4.0\n",
            "\u001b[32m\u001b[1m   Installed\u001b[22m\u001b[39m NetworkLayout ─────────────── v0.4.6\n",
            "\u001b[32m\u001b[1m   Installed\u001b[22m\u001b[39m OffsetArrays ──────────────── v1.14.0\n",
            "\u001b[32m\u001b[1m   Installed\u001b[22m\u001b[39m StaticArrays ──────────────── v1.9.4\n",
            "\u001b[32m\u001b[1m   Installed\u001b[22m\u001b[39m EarCut_jll ────────────────── v2.2.4+0\n",
            "\u001b[32m\u001b[1m   Installed\u001b[22m\u001b[39m ConcurrentUtilities ───────── v2.4.1\n",
            "\u001b[32m\u001b[1m   Installed\u001b[22m\u001b[39m IJulia ────────────────────── v1.24.2\n",
            "\u001b[32m\u001b[1m   Installed\u001b[22m\u001b[39m StaticArraysCore ──────────── v1.4.2\n",
            "\u001b[32m\u001b[1m   Installed\u001b[22m\u001b[39m Graphs ────────────────────── v1.11.0\n",
            "\u001b[32m\u001b[1m   Installed\u001b[22m\u001b[39m TranscodingStreams ────────── v0.10.9\n",
            "\u001b[32m\u001b[1m   Installed\u001b[22m\u001b[39m Ratios ────────────────────── v0.4.5\n",
            "\u001b[32m\u001b[1m   Installed\u001b[22m\u001b[39m GLFW_jll ──────────────────── v3.3.9+0\n",
            "\u001b[32m\u001b[1m   Installed\u001b[22m\u001b[39m GraphRecipes ──────────────── v0.5.13\n",
            "\u001b[32m\u001b[1m   Installed\u001b[22m\u001b[39m CodecZlib ─────────────────── v0.7.4\n",
            "\u001b[32m\u001b[1m   Installed\u001b[22m\u001b[39m GeometryTypes ─────────────── v0.8.5\n",
            "\u001b[32m\u001b[1m   Installed\u001b[22m\u001b[39m TableTraits ───────────────── v1.0.1\n",
            "\u001b[32m\u001b[1m   Installed\u001b[22m\u001b[39m Xorg_libxcb_jll ───────────── v1.15.0+0\n",
            "\u001b[32m\u001b[1m   Installed\u001b[22m\u001b[39m Conda ─────────────────────── v1.10.0\n",
            "\u001b[32m\u001b[1m   Installed\u001b[22m\u001b[39m ZMQ ───────────────────────── v1.2.5\n",
            "\u001b[32m\u001b[1m   Installed\u001b[22m\u001b[39m Plots ─────────────────────── v1.40.4\n",
            "\u001b[32m\u001b[1m   Installed\u001b[22m\u001b[39m Inflate ───────────────────── v0.1.5\n",
            "\u001b[32m\u001b[1m   Installed\u001b[22m\u001b[39m Extents ───────────────────── v0.1.2\n",
            "\u001b[32m\u001b[1m   Installed\u001b[22m\u001b[39m DataValueInterfaces ───────── v1.0.0\n",
            "\u001b[32m\u001b[1m   Installed\u001b[22m\u001b[39m ConstructionBase ──────────── v1.5.5\n",
            "\u001b[32m\u001b[1m   Installed\u001b[22m\u001b[39m AbstractTrees ─────────────── v0.4.5\n",
            "\u001b[32m\u001b[1m   Installed\u001b[22m\u001b[39m ChainRulesCore ────────────── v1.23.0\n",
            "\u001b[32m\u001b[1m   Installed\u001b[22m\u001b[39m Interpolations ────────────── v0.15.1\n",
            "\u001b[32m\u001b[1m   Installed\u001b[22m\u001b[39m XSLT_jll ──────────────────── v1.1.34+0\n",
            "\u001b[32m\u001b[1m   Installed\u001b[22m\u001b[39m LogExpFunctions ───────────── v0.3.27\n",
            "\u001b[32m\u001b[1m   Installed\u001b[22m\u001b[39m Adapt ─────────────────────── v4.0.4\n",
            "\u001b[32m\u001b[1m   Installed\u001b[22m\u001b[39m SimpleTraits ──────────────── v0.9.4\n",
            "\u001b[32m\u001b[1m   Installed\u001b[22m\u001b[39m XML2_jll ──────────────────── v2.12.7+0\n",
            "\u001b[32m\u001b[1m   Installed\u001b[22m\u001b[39m Latexify ──────────────────── v0.16.3\n",
            "\u001b[32m\u001b[1m   Installed\u001b[22m\u001b[39m IterTools ─────────────────── v1.10.0\n",
            "\u001b[32m\u001b[1m   Installed\u001b[22m\u001b[39m GeometryBasics ────────────── v0.4.11\n",
            "\u001b[32m\u001b[1m   Installed\u001b[22m\u001b[39m OpenSSL_jll ───────────────── v3.0.13+1\n",
            "\u001b[32m\u001b[1m   Installed\u001b[22m\u001b[39m BitFlags ──────────────────── v0.1.8\n",
            "\u001b[32m\u001b[1m   Installed\u001b[22m\u001b[39m IteratorInterfaceExtensions ─ v1.0.0\n",
            "\u001b[32m\u001b[1m   Installed\u001b[22m\u001b[39m StructArrays ──────────────── v0.6.18\n",
            "\u001b[32m\u001b[1m   Installed\u001b[22m\u001b[39m Tables ────────────────────── v1.11.1\n",
            "\u001b[32m\u001b[1m   Installed\u001b[22m\u001b[39m AxisAlgorithms ────────────── v1.1.0\n",
            "\u001b[32m\u001b[1m   Installed\u001b[22m\u001b[39m GeoInterface ──────────────── v1.3.4\n",
            "\u001b[32m\u001b[1m   Installed\u001b[22m\u001b[39m Qt6Base_jll ───────────────── v6.5.3+1\n",
            "\u001b[32m\u001b[1m   Installed\u001b[22m\u001b[39m WoodburyMatrices ──────────── v1.0.0\n",
            "\u001b[32m\u001b[1m   Installed\u001b[22m\u001b[39m UnitfulLatexify ───────────── v1.6.3\n",
            "\u001b[32m\u001b[1m   Installed\u001b[22m\u001b[39m GR ────────────────────────── v0.73.5\n",
            "\u001b[32m\u001b[1m    Building\u001b[22m\u001b[39m Conda ─→ `~/.julia/scratchspaces/44cfe95a-1eb2-52ea-b672-e2afdf69b78f/51cab8e982c5b598eea9c8ceaced4b58d9dd37c9/build.log`\n",
            "\u001b[32m\u001b[1m    Building\u001b[22m\u001b[39m IJulia → `~/.julia/scratchspaces/44cfe95a-1eb2-52ea-b672-e2afdf69b78f/47ac8cc196b81001a711f4b2c12c97372338f00c/build.log`\n",
            "\u001b[32m\u001b[1mPrecompiling\u001b[22m\u001b[39m project...\n",
            "\u001b[32m  ✓ \u001b[39m\u001b[90mDataValueInterfaces\u001b[39m\n",
            "\u001b[32m  ✓ \u001b[39m\u001b[90mIteratorInterfaceExtensions\u001b[39m\n",
            "\u001b[32m  ✓ \u001b[39m\u001b[90mIterTools\u001b[39m\n",
            "\u001b[32m  ✓ \u001b[39m\u001b[90mConcurrentUtilities\u001b[39m\n",
            "\u001b[32m  ✓ \u001b[39m\u001b[90mOffsetArrays\u001b[39m\n",
            "\u001b[32m  ✓ \u001b[39m\u001b[90mExtents\u001b[39m\n",
            "\u001b[32m  ✓ \u001b[39m\u001b[90mAbstractTrees\u001b[39m\n",
            "\u001b[32m  ✓ \u001b[39m\u001b[90mTranscodingStreams\u001b[39m\n",
            "\u001b[32m  ✓ \u001b[39m\u001b[90mRatios\u001b[39m\n",
            "\u001b[32m  ✓ \u001b[39m\u001b[90mInflate\u001b[39m\n",
            "\u001b[32m  ✓ \u001b[39m\u001b[90mConstructionBase\u001b[39m\n",
            "\u001b[32m  ✓ \u001b[39m\u001b[90mChainRulesCore\u001b[39m\n",
            "\u001b[32m  ✓ \u001b[39m\u001b[90mAdapt\u001b[39m\n",
            "\u001b[32m  ✓ \u001b[39m\u001b[90mBitFlags\u001b[39m\n",
            "\u001b[32m  ✓ \u001b[39m\u001b[90mStaticArraysCore\u001b[39m\n",
            "\u001b[32m  ✓ \u001b[39m\u001b[90mLogExpFunctions\u001b[39m\n",
            "\u001b[32m  ✓ \u001b[39m\u001b[90mSimpleTraits\u001b[39m\n",
            "\u001b[32m  ✓ \u001b[39m\u001b[90mWoodburyMatrices\u001b[39m\n",
            "\u001b[32m  ✓ \u001b[39m\u001b[90mOpenSSL_jll\u001b[39m\n",
            "\u001b[32m  ✓ \u001b[39m\u001b[90mEarCut_jll\u001b[39m\n",
            "\u001b[32m  ✓ \u001b[39m\u001b[90mLatexify\u001b[39m\n",
            "\u001b[32m  ✓ \u001b[39m\u001b[90mXML2_jll\u001b[39m\n",
            "\u001b[32m  ✓ \u001b[39m\u001b[90mConda\u001b[39m\n",
            "\u001b[32m  ✓ \u001b[39m\u001b[90mTableTraits\u001b[39m\n",
            "\u001b[32m  ✓ \u001b[39m\u001b[90mTranscodingStreams → TestExt\u001b[39m\n",
            "\u001b[32m  ✓ \u001b[39m\u001b[90mGeoInterface\u001b[39m\n",
            "\u001b[32m  ✓ \u001b[39m\u001b[90mZMQ\u001b[39m\n",
            "\u001b[32m  ✓ \u001b[39m\u001b[90mUnitful → ConstructionBaseUnitfulExt\u001b[39m\n",
            "\u001b[32m  ✓ \u001b[39m\u001b[90mRatios → RatiosFixedPointNumbersExt\u001b[39m\n",
            "\u001b[32m  ✓ \u001b[39m\u001b[90mChainRulesCore → ChainRulesCoreSparseArraysExt\u001b[39m\n",
            "\u001b[32m  ✓ \u001b[39m\u001b[90mOffsetArrays → OffsetArraysAdaptExt\u001b[39m\n",
            "\u001b[32m  ✓ \u001b[39m\u001b[90mAxisAlgorithms\u001b[39m\n",
            "\u001b[32m  ✓ \u001b[39m\u001b[90mLogExpFunctions → LogExpFunctionsChainRulesCoreExt\u001b[39m\n",
            "\u001b[32m  ✓ \u001b[39m\u001b[90mGettext_jll\u001b[39m\n",
            "\u001b[32m  ✓ \u001b[39m\u001b[90mXSLT_jll\u001b[39m\n",
            "\u001b[32m  ✓ \u001b[39m\u001b[90mCodecZlib\u001b[39m\n",
            "\u001b[32m  ✓ \u001b[39m\u001b[90mTables\u001b[39m\n",
            "\u001b[32m  ✓ \u001b[39m\u001b[90mOpenSSL\u001b[39m\n",
            "\u001b[32m  ✓ \u001b[39m\u001b[90mUnitfulLatexify\u001b[39m\n",
            "\u001b[32m  ✓ \u001b[39mIJulia\n",
            "\u001b[32m  ✓ \u001b[39m\u001b[90mGlib_jll\u001b[39m\n",
            "\u001b[32m  ✓ \u001b[39m\u001b[90mXorg_libxcb_jll\u001b[39m\n",
            "\u001b[32m  ✓ \u001b[39m\u001b[90mGLFW_jll\u001b[39m\n",
            "\u001b[32m  ✓ \u001b[39m\u001b[90mStatsBase\u001b[39m\n",
            "\u001b[32m  ✓ \u001b[39m\u001b[90mCairo_jll\u001b[39m\n",
            "\u001b[32m  ✓ \u001b[39m\u001b[90mStaticArrays\u001b[39m\n",
            "\u001b[32m  ✓ \u001b[39m\u001b[90mQt6Base_jll\u001b[39m\n",
            "\u001b[32m  ✓ \u001b[39m\u001b[90mConstructionBase → ConstructionBaseStaticArraysExt\u001b[39m\n",
            "\u001b[32m  ✓ \u001b[39m\u001b[90mStaticArrays → StaticArraysStatisticsExt\u001b[39m\n",
            "\u001b[32m  ✓ \u001b[39m\u001b[90mHarfBuzz_jll\u001b[39m\n",
            "\u001b[32m  ✓ \u001b[39m\u001b[90mAdapt → AdaptStaticArraysExt\u001b[39m\n",
            "\u001b[32m  ✓ \u001b[39m\u001b[90mStaticArrays → StaticArraysChainRulesCoreExt\u001b[39m\n",
            "\u001b[32m  ✓ \u001b[39m\u001b[90mlibass_jll\u001b[39m\n",
            "\u001b[32m  ✓ \u001b[39m\u001b[90mStructArrays\u001b[39m\n",
            "\u001b[32m  ✓ \u001b[39m\u001b[90mArnoldiMethod\u001b[39m\n",
            "\u001b[32m  ✓ \u001b[39m\u001b[90mHTTP\u001b[39m\n",
            "\u001b[32m  ✓ \u001b[39m\u001b[90mFFMPEG_jll\u001b[39m\n",
            "\u001b[32m  ✓ \u001b[39m\u001b[90mGeometryTypes\u001b[39m\n",
            "\u001b[32m  ✓ \u001b[39m\u001b[90mStructArrays → StructArraysStaticArraysExt\u001b[39m\n",
            "\u001b[32m  ✓ \u001b[39m\u001b[90mFFMPEG\u001b[39m\n",
            "\u001b[32m  ✓ \u001b[39m\u001b[90mStructArrays → StructArraysSparseArraysExt\u001b[39m\n",
            "\u001b[32m  ✓ \u001b[39m\u001b[90mStructArrays → StructArraysAdaptExt\u001b[39m\n",
            "\u001b[32m  ✓ \u001b[39m\u001b[90mInterpolations\u001b[39m\n",
            "\u001b[32m  ✓ \u001b[39m\u001b[90mInterpolations → InterpolationsUnitfulExt\u001b[39m\n",
            "\u001b[32m  ✓ \u001b[39m\u001b[90mGraphs\u001b[39m\n",
            "\u001b[32m  ✓ \u001b[39m\u001b[90mGR_jll\u001b[39m\n",
            "\u001b[32m  ✓ \u001b[39m\u001b[90mGeometryBasics\u001b[39m\n",
            "\u001b[32m  ✓ \u001b[39m\u001b[90mGR\u001b[39m\n",
            "\u001b[32m  ✓ \u001b[39m\u001b[90mNetworkLayout\u001b[39m\n",
            "\u001b[32m  ✓ \u001b[39m\u001b[90mNetworkLayout → NetworkLayoutGraphsExt\u001b[39m\n",
            "\u001b[32m  ✓ \u001b[39mGraphRecipes\n",
            "\u001b[32m  ✓ \u001b[39mPlots\n",
            "\u001b[32m  ✓ \u001b[39m\u001b[90mPlots → UnitfulExt\u001b[39m\n",
            "\u001b[32m  ✓ \u001b[39m\u001b[90mPlots → GeometryBasicsExt\u001b[39m\n",
            "\u001b[32m  ✓ \u001b[39m\u001b[90mPlots → IJuliaExt\u001b[39m\n",
            "  75 dependencies successfully precompiled in 55 seconds. 126 already precompiled.\n"
          ]
        }
      ],
      "source": [
        "import Pkg\n",
        "Pkg.activate(@__DIR__)\n",
        "Pkg.instantiate()"
      ]
    },
    {
      "cell_type": "markdown",
      "id": "0e3bcb27-26cb-4cdd-a824-b55031e01b4e",
      "metadata": {},
      "source": [
        "Standard Julia practice is to load all needed packages at the top of a\n",
        "file. If you need to load any additional packages in any assignments\n",
        "beyond those which are loaded by default, feel free to add a `using`\n",
        "statement, though [you may need to install the\n",
        "package](https://viveks.me/environmental-systems-analysis/tutorials/julia-basics.html#package-management)."
      ]
    },
    {
      "cell_type": "code",
      "execution_count": 2,
      "id": "4",
      "metadata": {},
      "outputs": [],
      "source": [
        "using Random\n",
        "using Plots\n",
        "using GraphRecipes\n",
        "using LaTeXStrings"
      ]
    },
    {
      "cell_type": "code",
      "execution_count": 3,
      "id": "6",
      "metadata": {},
      "outputs": [
        {
          "data": {
            "text/plain": [
              "TaskLocalRNG()"
            ]
          },
          "metadata": {},
          "output_type": "display_data"
        }
      ],
      "source": [
        "# this sets a random seed, which ensures reproducibility of random number generation. You should always set a seed when working with random numbers.\n",
        "Random.seed!(1)"
      ]
    },
    {
      "cell_type": "markdown",
      "id": "02482a14-41e8-43bd-afa1-eee124ce54b3",
      "metadata": {},
      "source": [
        "## Problems (Total: 50/60 Points)\n",
        "\n",
        "### Problem 1 (15 points)\n",
        "\n",
        "The following subproblems all involve code snippets that require\n",
        "debugging.\n",
        "\n",
        "**For each of them**:\n",
        "\n",
        "-   identify and describe the logic and/or syntax error;\n",
        "-   write a fixed version of the function;\n",
        "-   use your fixed function to solve the problem.\n",
        "\n",
        "#### Problem 1.1\n",
        "\n",
        "You’ve been tasked with writing code to identify the minimum value in an\n",
        "array. You cannot use a predefined function. Your colleague suggested\n",
        "the function below, but it does not return the minimum value."
      ]
    },
    {
      "cell_type": "code",
      "execution_count": 8,
      "id": "8",
      "metadata": {},
      "outputs": [
        {
          "name": "stdout",
          "output_type": "stream",
          "text": [
            "minimum(array_values) = 0\n"
          ]
        }
      ],
      "source": [
        "function minimum(array)\n",
        "    min_value = 0\n",
        "    for i in 1:length(array)\n",
        "        if array[i] < min_value\n",
        "            min_value = array[i]\n",
        "        end\n",
        "    end\n",
        "    return min_value\n",
        "end\n",
        "\n",
        "array_values = [89, 90, 95, 100, 100, 78, 99, 98, 100, 95]\n",
        "@show minimum(array_values);"
      ]
    },
    {
      "cell_type": "markdown",
      "id": "7694806e",
      "metadata": {},
      "source": [
        "The issue with the code above is that the function compares each value in the array to the pre-defined \"minimum value\" zero. It does not compare each value in the array to the other values in the array. You should not be comparing the numbers in the array to an external value. This function will only return the minimum value if there is avalue in the array less than 0."
      ]
    },
    {
      "cell_type": "code",
      "execution_count": 12,
      "id": "bb1033fc",
      "metadata": {},
      "outputs": [
        {
          "name": "stdout",
          "output_type": "stream",
          "text": [
            "minimum_fixed(array_values) = 78\n"
          ]
        }
      ],
      "source": [
        "# Fixed version of the above function\n",
        "function minimum_fixed(array)\n",
        "    min_value = array[1]\n",
        "    for i in 1:length(array)\n",
        "        if array[i] < min_value\n",
        "            min_value = array[i]\n",
        "        end\n",
        "    end\n",
        "    return min_value\n",
        "end\n",
        "\n",
        "# Using hte fixed code to solve the problem\n",
        "array_values = [89, 90, 95, 100, 100, 78, 99, 98, 100, 95]\n",
        "@show minimum_fixed(array_values);"
      ]
    },
    {
      "cell_type": "markdown",
      "id": "b64501cb-369d-464d-94f4-7fa51072cd2b",
      "metadata": {},
      "source": [
        "#### Problem 1.2\n",
        "\n",
        "Your team is trying to compute the average grade for your class, but the\n",
        "following code produces an error."
      ]
    },
    {
      "cell_type": "code",
      "execution_count": 13,
      "id": "10",
      "metadata": {},
      "outputs": [
        {
          "ename": "UndefVarError",
          "evalue": "UndefVarError: `average_grade` not defined",
          "output_type": "error",
          "traceback": [
            "UndefVarError: `average_grade` not defined\n",
            "\n",
            "Stacktrace:\n",
            " [1] macro expansion\n",
            "   @ show.jl:1181 [inlined]\n",
            " [2] top-level scope\n",
            "   @ ~/BEE 4750/Homework/hw1-badynmt/jl_notebook_cell_df34fa98e69747e1a8f8a730347b8e2f_X11sZmlsZQ==.jl:7"
          ]
        }
      ],
      "source": [
        "student_grades = [89, 90, 95, 100, 100, 78, 99, 98, 100, 95]\n",
        "function class_average(grades)\n",
        "  average_grade = mean(student_grades)\n",
        "  return average_grade\n",
        "end\n",
        "\n",
        "@show average_grade;"
      ]
    },
    {
      "cell_type": "markdown",
      "id": "e17d877f",
      "metadata": {},
      "source": [
        "This code produces an error \"'average_grade' not defined\" because the code attempts to show the value that the function returns without first calling the function. Without first running the function there is no value being returned and therefore no variable 'average_grade'. In order to get this variable you must save the return of the function to that variable. Another issue is that the above code is using the 'mean' function which is part of the statistics package but you first need to load in the Statistics package as it was not one of the ones loaded in at the top of this document."
      ]
    },
    {
      "cell_type": "code",
      "execution_count": 17,
      "id": "0c9329a8",
      "metadata": {},
      "outputs": [
        {
          "name": "stdout",
          "output_type": "stream",
          "text": [
            "average_grade = 94.4\n"
          ]
        }
      ],
      "source": [
        "#Fixed Version of the code\n",
        "using Statistics\n",
        "student_grades = [89, 90, 95, 100, 100, 78, 99, 98, 100, 95]\n",
        "function class_average(grades)\n",
        "  average_grade = mean(student_grades)\n",
        "  return average_grade\n",
        "end\n",
        "\n",
        "# Solved Problem\n",
        "average_grade = class_average(student_grades)\n",
        "@show average_grade;"
      ]
    },
    {
      "cell_type": "markdown",
      "id": "5c97a0dc-97bd-43b2-8caa-a1628f47f932",
      "metadata": {},
      "source": [
        "#### Problem 1.3\n",
        "\n",
        "Your team wants to know the expected payout of an old Italian dice game\n",
        "called *passadieci* (which was analyzed by Galileo as one of the first\n",
        "examples of a rigorous study of probability). The goal of passadieci is\n",
        "to get at least an 11 from rolling three fair, six-sided dice. Your\n",
        "strategy is to compute the average wins from 1,000 trials, but the code\n",
        "you’ve written below produces an error."
      ]
    },
    {
      "cell_type": "code",
      "execution_count": 1,
      "id": "12",
      "metadata": {},
      "outputs": [],
      "source": [
        "function passadieci()\n",
        "    # this rand() call samples 3 values from the vector [1, 6]\n",
        "    roll = rand(1:6, 3) \n",
        "    return roll\n",
        "end\n",
        "n_trials = 1_000\n",
        "outcomes = zero(n_trials)\n",
        "for i = 1:n_trials\n",
        "    outcomes[i] = (sum(passadieci()) > 11)\n",
        "end\n",
        "win_prob = sum(outcomes) / n_trials # compute average number of wins\n",
        "@show win_prob;"
      ]
    },
    {
      "cell_type": "markdown",
      "id": "250cde8c-cd2b-4ace-b3ca-245b59e4a445",
      "metadata": {},
      "source": [
        "### Problem 2 (5 points)\n",
        "\n",
        "You’ve been handed some code to analyze. The original coder was not very\n",
        "considerate of other potential users: the function is called\n",
        "`mystery_function` and there are no comments explaining the purpose of\n",
        "the code. It appears to take in an array and return some numbers, and\n",
        "you’ve been assured that the code works as intended."
      ]
    },
    {
      "cell_type": "code",
      "execution_count": 1,
      "id": "14",
      "metadata": {},
      "outputs": [
        {
          "name": "stdout",
          "output_type": "stream",
          "text": [
            "mystery_function(list_of_values) = Any[1, 2, 3, 4]"
          ]
        }
      ],
      "source": [
        "function mystery_function(values)\n",
        "    y = []\n",
        "    for v in values\n",
        "        if !(v in y)\n",
        "            append!(y, v)\n",
        "        end\n",
        "    end\n",
        "    return y\n",
        "end\n",
        "\n",
        "list_of_values = [1, 2, 3, 4, 3, 4, 2, 1]\n",
        "@show mystery_function(list_of_values);"
      ]
    },
    {
      "cell_type": "markdown",
      "id": "5473439c-157a-498d-9433-f7faa08dc359",
      "metadata": {},
      "source": [
        "**In this problem**:\n",
        "\n",
        "-   Explain the purpose of `mystery_function`.\n",
        "-   Add comments to the code, explaining why and how it works. Refer to\n",
        "    [“Best Practices for Writing Code\n",
        "    Comments”](https://stackoverflow.blog/2021/12/23/best-practices-for-writing-code-comments/),\n",
        "    and remember that bad comments can be just as bad as no comments at\n",
        "    all. You do not need to add comments to every line (in fact, this is\n",
        "    very bad practice), but you should note the *purpose* of every\n",
        "    “section” of code, and add comments explaining any code sequences\n",
        "    that you don’t immediately understand.\n",
        "-   Is there a built-in Julia function that does the same thing as\n",
        "    `mystery_function`? If so, what is it? Use it to do the same thing\n",
        "    as the code above.\n",
        "\n",
        "### Problem 3 (10 points)\n",
        "\n",
        "You’re interested in writing some code to remove the mean of a vector.\n",
        "\n",
        "**In this problem**:\n",
        "\n",
        "-   Write a function `compute_mean(v)` which sums all of the elements of\n",
        "    a vector `v` using a `for` loop and computes the mean.\n",
        "-   Make a random vector `random_vect` of length 10 using Julia’s\n",
        "    `rand()` function. Use your `compute_mean()` function to calculate\n",
        "    its mean and subtract it from `random_vect` **without a loop**\n",
        "    (using a Julia technique called *broadcasting*; feel free to consult\n",
        "    the Julia documentation and search as necessary). Check that the new\n",
        "    vector has mean zero.\n",
        "\n",
        "### Problem 4 (20 points)\n",
        "\n",
        "Cheap Plastic Products, Inc. is operating a plant that produces\n",
        "$100 \\text{m}^3\\text{/day}$ of wastewater that is discharged into\n",
        "Pristine Brook. The wastewater contains $1 \\text{kg/m}^3$ of YUK, a\n",
        "toxic substance. The US Environmental Protection Agency has imposed an\n",
        "effluent standard on the plant prohibiting discharge of more than\n",
        "$20 \\text{kg/day}$ of YUK into Pristine Brook.\n",
        "\n",
        "Cheap Plastic Products has analyzed two methods for reducing its\n",
        "discharges of YUK. Method 1 is land disposal, which costs $X_1^2/20$\n",
        "dollars per day, where $X_1$ is the amount of wastewater disposed of on\n",
        "the land ($\\text{m}^3\\text{/day}$). With this method, 20% of the YUK\n",
        "applied to the land will eventually drain into the stream (*i.e.*, 80%\n",
        "of the YUK is removed by the soil).\n",
        "\n",
        "Method 2 is a chemical treatment procedure which costs \\$1.50 per\n",
        "$\\text{m}^3$ of wastewater treated. The chemical treatment has an\n",
        "efficiency of $e= 1 - 0.005X_2$, where $X_2$ is the quantity of\n",
        "wastewater ($\\text{m}^3\\text{/day}$) treated. For example, if\n",
        "$X_2 = 50 \\text{m}^3\\text{/day}$, then $e = 1 - 0.005(50) = 0.75$, so\n",
        "that 75% of the YUK is removed.\n",
        "\n",
        "Cheap Plastic Products is wondering how to allocate their wastewater\n",
        "between these three disposal and treatment methods (land disposal, and\n",
        "chemical treatment, and land disposal) to meet the effluent standard\n",
        "while keeping costs manageable.\n",
        "\n",
        "The flow of wastewater through this treatment system is shown in\n",
        "<a href=\"#fig-wastewater\" class=\"quarto-xref\">Figure 1</a>. Modify the\n",
        "edge labels (by editing the `edge_labels` dictionary in the code\n",
        "producing <a href=\"#fig-wastewater\" class=\"quarto-xref\">Figure 1</a>) to\n",
        "show how the wastewater allocations result in the final YUK discharge\n",
        "into Pristine Brook. For the `edge_label` dictionary, the tuple $(i, j)$\n",
        "corresponds to the arrow going from node $i$ to node $j$. The syntax for\n",
        "any entry is `(i, j) => \"label text\"`, and the label text can include\n",
        "mathematical notation if the string is prefaced with an `L`, as in\n",
        "`L\"x_1\"` will produce $x_1$."
      ]
    },
    {
      "cell_type": "code",
      "execution_count": 1,
      "id": "cell-fig-wastewater",
      "metadata": {},
      "outputs": [],
      "source": [
        "A = [0 1 1 1;\n",
        "    0 0 0 1;\n",
        "    0 0 0 1;\n",
        "    0 0 0 0]\n",
        "\n",
        "names = [\"Plant\", \"Land Treatment\", \"Chem Treatment\", \"Pristine Brook\"]\n",
        "# modify this dictionary to add labels\n",
        "edge_labels = Dict((1, 2) => \"\", (1,3) => \"\", (1, 4) => \"\",(2, 4) => \"\",(3, 4) => \"\")\n",
        "shapes=[:hexagon, :rect, :rect, :hexagon]\n",
        "xpos = [0, -1.5, -0.25, 1]\n",
        "ypos = [1, 0, 0, -1]\n",
        "\n",
        "p = graphplot(A, names=names,edgelabel=edge_labels, markersize=0.15, markershapes=shapes, markercolor=:white, x=xpos, y=ypos)\n",
        "display(p)"
      ]
    },
    {
      "cell_type": "markdown",
      "id": "35a80f6a-0862-4469-bd1d-e57f3e7762d3",
      "metadata": {},
      "source": [
        "**In this problem**:\n",
        "\n",
        "-   Formulate a mathematical model for the treatment cost and the amount\n",
        "    of YUK that will be discharged into Pristine Brook based on the\n",
        "    wastewater allocations. This is best done with some equations and\n",
        "    supporting text explaining the derivation. Make sure you include, as\n",
        "    additional equations in the model, any needed constraints on\n",
        "    relevant values. You can find some basics on writing mathematical\n",
        "    equations using the LaTeX typesetting syntax\n",
        "    [here](https://viveks.me/environmental-systems-analysis/tutorials/latex-notebook.qmd),\n",
        "    and a cheatsheet with LaTeX commands can be found on the course\n",
        "    website’s [Resources\n",
        "    page](https://viveks.me/environmental-systems-analysis/resources/markdown.qmd).\n",
        "\n",
        "-   Implement your systems model as a Julia function which computes the\n",
        "    resulting YUK concentration and cost for a particular treatment\n",
        "    plan. You can return multiple values from a function with a\n",
        "    [tuple](https://docs.julialang.org/en/v1/manual/functions/#Tuples-1),\n",
        "    as in:\n",
        "\n",
        "    ``` {julia}\n",
        "    function multiple_return_values(x, y)\n",
        "        return (x+y, x*y)\n",
        "    end\n",
        "\n",
        "    a, b = multiple_return_values(2, 5)\n",
        "    @show a;\n",
        "    @show b;\n",
        "    ```\n",
        "\n",
        "    To evalute the function over vectors of inputs, you can *broadcast*\n",
        "    the function by adding a decimal `.` before the function arguments\n",
        "    and accessing the resulting values by writing a *comprehension* to\n",
        "    loop over the individual outputs in the vector:\n",
        "\n",
        "    ``` {julia}\n",
        "    x = [1, 2, 3, 4, 5]\n",
        "    y = [6, 7, 8, 9, 10]\n",
        "\n",
        "    output = multiple_return_values.(x, y)\n",
        "    a = [out[1] for out in output]\n",
        "    b = [out[2] for out in output]\n",
        "    @show a;\n",
        "    @show b;\n",
        "    ```\n",
        "\n",
        "    Make sure you comment your code appropriately to make it clear what\n",
        "    is going on and why.\n",
        "\n",
        "-   Use your function to experiment with some different combinations of\n",
        "    wastewater discharge and treatment and plot the results of these\n",
        "    experiments. Can you find one that satisfies the YUK effluent\n",
        "    standard (plot this as well as a dashed red line)? What was the\n",
        "    cost? What can you say about the tradeoff between treatment cost and\n",
        "    YUK concentration? You don’t have to find an “optimal” solution to\n",
        "    this problem, but what do you think would be needed to find a better\n",
        "    solution?\n",
        "\n",
        "### Problem 5 (10 points)\n",
        "\n",
        "**This problem is only required for students in BEE 5750**."
      ]
    },
    {
      "cell_type": "markdown",
      "id": "c860071d-9605-44fd-9824-08feaa19071c",
      "metadata": {},
      "source": [
        "#### Problem 5.1\n",
        "\n",
        "Using a\n",
        "[comprehension](https://viveks.me/environmental-systems-analysis/tutorials/julia-basics.html#comprehensions),\n",
        "count the number of odd numbers between 0 and 149."
      ]
    },
    {
      "cell_type": "markdown",
      "id": "bbad418b-b1e1-4bc1-9236-4dc7d5e0a6bb",
      "metadata": {},
      "source": [
        "> **Hint**\n",
        ">\n",
        "> `iseven()` returns `true` for even numbers and `false` for odd\n",
        "> numbers."
      ]
    },
    {
      "cell_type": "markdown",
      "id": "ab678985-748c-45a4-9154-8fd5765df1ce",
      "metadata": {},
      "source": [
        "#### Problem 5.2\n",
        "\n",
        "Write a function `polynomial(x, a)` which calculates the polynomial\n",
        "$$p(x) = \\sum_{i=1}^n a_i x^i$$\n",
        "\n",
        "based on a point `x` and a coefficient vector `a` of length `n` using a\n",
        "loop. Test your function by computing $$p(x) = 2x^3 - x^2 + 1$$ at\n",
        "$x=2$."
      ]
    },
    {
      "cell_type": "markdown",
      "id": "47b1b47a-d0c6-4812-b7a5-fbecebddd3f9",
      "metadata": {},
      "source": [
        "## References\n",
        "\n",
        "List any external references consulted, including classmates."
      ]
    }
  ],
  "metadata": {
    "kernel_info": {
      "name": "julia"
    },
    "kernelspec": {
      "display_name": "Julia 1.10.4",
      "language": "julia",
      "name": "julia-1.10"
    },
    "language_info": {
      "file_extension": ".jl",
      "mimetype": "application/julia",
      "name": "julia",
      "version": "1.10.4"
    }
  },
  "nbformat": 4,
  "nbformat_minor": 5
}
